{
 "cells": [
  {
   "cell_type": "code",
   "execution_count": 12,
   "metadata": {},
   "outputs": [],
   "source": [
    "import pandas as pd\n",
    "import numpy as np"
   ]
  },
  {
   "cell_type": "code",
   "execution_count": 13,
   "metadata": {},
   "outputs": [],
   "source": [
    "## import  \n",
    "InfCPICMRT=pd.read_stata('../OtherData/InfCPICMRealTime.dta')  \n",
    "InfCPICMRT = InfCPICMRT[-InfCPICMRT.date.isnull()]\n",
    "\n",
    "## CPI \n",
    "InfCPIMRT=pd.read_stata('../OtherData/InfCPIMRealTime.dta')  \n",
    "InfCPIMRT = InfCPIMRT[-InfCPIMRT.date.isnull()]\n",
    "\n",
    "## deal with dates = \n",
    "dateM_cpic = pd.to_datetime(InfCPICMRT['date'],format='%Y%m%d')\n",
    "dateM_cpi  = pd.to_datetime(InfCPIMRT['date'],format='%Y%m%d')"
   ]
  },
  {
   "cell_type": "code",
   "execution_count": 14,
   "metadata": {},
   "outputs": [],
   "source": [
    "InfCPICMRT.index = pd.DatetimeIndex(dateM_cpic,freq='infer')\n",
    "InfCPIMRT.index = pd.DatetimeIndex(dateM_cpi,freq='infer')"
   ]
  },
  {
   "cell_type": "code",
   "execution_count": 15,
   "metadata": {
    "code_folding": [
     0
    ]
   },
   "outputs": [],
   "source": [
    "def GetRealTimeData(matrix):\n",
    "    periods = len(matrix)\n",
    "    real_time = np.zeros(periods)\n",
    "    for i in range(periods):\n",
    "        real_time[i] = matrix.iloc[i,i+1]\n",
    "    return real_time"
   ]
  },
  {
   "cell_type": "code",
   "execution_count": 16,
   "metadata": {
    "code_folding": [],
    "lines_to_next_cell": 0
   },
   "outputs": [],
   "source": [
    "## generate real-time series \n",
    "matrix_cpic = InfCPICMRT.copy().drop(columns=['date','year','month'])\n",
    "matrix_cpi = InfCPIMRT.copy().drop(columns=['date','year','month'])\n",
    "\n",
    "real_time_cpic = pd.Series(GetRealTimeData(matrix_cpic) )\n",
    "real_time_cpi =  pd.Series(GetRealTimeData(matrix_cpi) ) \n",
    "real_time_cpic.index =  pd.DatetimeIndex(dateM_cpic,freq='infer')\n",
    "real_time_cpi.index = pd.DatetimeIndex(dateM_cpi,freq='infer')"
   ]
  },
  {
   "cell_type": "code",
   "execution_count": 17,
   "metadata": {},
   "outputs": [],
   "source": [
    "real_time =pd.concat([real_time_cpic,real_time_cpi], join='inner', axis=1)\n",
    "real_time.columns=['RTCPI','RTCPICore']"
   ]
  },
  {
   "cell_type": "code",
   "execution_count": 18,
   "metadata": {},
   "outputs": [
    {
     "data": {
      "text/html": [
       "<div>\n",
       "<style scoped>\n",
       "    .dataframe tbody tr th:only-of-type {\n",
       "        vertical-align: middle;\n",
       "    }\n",
       "\n",
       "    .dataframe tbody tr th {\n",
       "        vertical-align: top;\n",
       "    }\n",
       "\n",
       "    .dataframe thead th {\n",
       "        text-align: right;\n",
       "    }\n",
       "</style>\n",
       "<table border=\"1\" class=\"dataframe\">\n",
       "  <thead>\n",
       "    <tr style=\"text-align: right;\">\n",
       "      <th></th>\n",
       "      <th>RTCPI</th>\n",
       "      <th>RTCPICore</th>\n",
       "    </tr>\n",
       "    <tr>\n",
       "      <th>date</th>\n",
       "      <th></th>\n",
       "      <th></th>\n",
       "    </tr>\n",
       "  </thead>\n",
       "  <tbody>\n",
       "    <tr>\n",
       "      <th>1998-11-01</th>\n",
       "      <td>175.100</td>\n",
       "      <td>164.300</td>\n",
       "    </tr>\n",
       "    <tr>\n",
       "      <th>1998-12-01</th>\n",
       "      <td>175.600</td>\n",
       "      <td>164.500</td>\n",
       "    </tr>\n",
       "    <tr>\n",
       "      <th>1999-01-01</th>\n",
       "      <td>175.700</td>\n",
       "      <td>164.600</td>\n",
       "    </tr>\n",
       "    <tr>\n",
       "      <th>1999-02-01</th>\n",
       "      <td>175.800</td>\n",
       "      <td>164.700</td>\n",
       "    </tr>\n",
       "    <tr>\n",
       "      <th>1999-03-01</th>\n",
       "      <td>176.000</td>\n",
       "      <td>165.000</td>\n",
       "    </tr>\n",
       "    <tr>\n",
       "      <th>...</th>\n",
       "      <td>...</td>\n",
       "      <td>...</td>\n",
       "    </tr>\n",
       "    <tr>\n",
       "      <th>2021-12-01</th>\n",
       "      <td>284.759</td>\n",
       "      <td>280.192</td>\n",
       "    </tr>\n",
       "    <tr>\n",
       "      <th>2022-01-01</th>\n",
       "      <td>286.431</td>\n",
       "      <td>281.933</td>\n",
       "    </tr>\n",
       "    <tr>\n",
       "      <th>2022-02-01</th>\n",
       "      <td>287.878</td>\n",
       "      <td>284.182</td>\n",
       "    </tr>\n",
       "    <tr>\n",
       "      <th>2022-03-01</th>\n",
       "      <td>288.811</td>\n",
       "      <td>287.708</td>\n",
       "    </tr>\n",
       "    <tr>\n",
       "      <th>2022-04-01</th>\n",
       "      <td>290.455</td>\n",
       "      <td>288.663</td>\n",
       "    </tr>\n",
       "  </tbody>\n",
       "</table>\n",
       "<p>282 rows × 2 columns</p>\n",
       "</div>"
      ],
      "text/plain": [
       "              RTCPI  RTCPICore\n",
       "date                          \n",
       "1998-11-01  175.100    164.300\n",
       "1998-12-01  175.600    164.500\n",
       "1999-01-01  175.700    164.600\n",
       "1999-02-01  175.800    164.700\n",
       "1999-03-01  176.000    165.000\n",
       "...             ...        ...\n",
       "2021-12-01  284.759    280.192\n",
       "2022-01-01  286.431    281.933\n",
       "2022-02-01  287.878    284.182\n",
       "2022-03-01  288.811    287.708\n",
       "2022-04-01  290.455    288.663\n",
       "\n",
       "[282 rows x 2 columns]"
      ]
     },
     "execution_count": 18,
     "metadata": {},
     "output_type": "execute_result"
    }
   ],
   "source": [
    "real_time"
   ]
  },
  {
   "cell_type": "code",
   "execution_count": null,
   "metadata": {},
   "outputs": [],
   "source": []
  }
 ],
 "metadata": {
  "jupytext": {
   "cell_metadata_json": true,
   "formats": "ipynb,py:light"
  },
  "kernelspec": {
   "display_name": "Python 3 (ipykernel)",
   "language": "python",
   "name": "python3"
  },
  "language_info": {
   "codemirror_mode": {
    "name": "ipython",
    "version": 3
   },
   "file_extension": ".py",
   "mimetype": "text/x-python",
   "name": "python",
   "nbconvert_exporter": "python",
   "pygments_lexer": "ipython3",
   "version": "3.8.13"
  }
 },
 "nbformat": 4,
 "nbformat_minor": 2
}
