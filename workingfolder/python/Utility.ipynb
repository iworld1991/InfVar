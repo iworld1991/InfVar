{
 "cells": [
  {
   "cell_type": "code",
   "execution_count": null,
   "id": "961fcac4",
   "metadata": {},
   "outputs": [],
   "source": [
    "## not used for now \n",
    "\n",
    "def calc_variance_at_low_freq(series,\n",
    "                             horizon):\n",
    "    \"\"\"\n",
    "    input\n",
    "    ===== \n",
    "    series: data at higher frequency with serial correlation\n",
    "    horizon: nb of periods between two non-serially correlated data point\n",
    "    \n",
    "    out\n",
    "    ====\n",
    "    variance: average variance of the non-serially correlated series \n",
    "    \"\"\"\n",
    "    \n",
    "    varinace_sum = 0.0\n",
    "    for cut in range(0,horizon):\n",
    "        ids = np.arange(cut,len(series),horizon)\n",
    "        print(ids)\n",
    "        variance = series[ids].var()\n",
    "        varinace_sum +=variance\n",
    "    return varinace_sum/horizon\n",
    "\n",
    "def newey_west_variance(series,\n",
    "                        truncate):\n",
    "    \"\"\"\n",
    "    input\n",
    "    ===== \n",
    "    series: data at higher frequency with serial correlation\n",
    "    truncate: nb of periods between two non-serially correlated data point\n",
    "    \n",
    "    out\n",
    "    ====\n",
    "    variance: average variance of the non-serially correlated series \n",
    "    \"\"\"\n",
    "    adjust_term = 1.0\n",
    "    \n",
    "    for truc in range(1,truncate):\n",
    "        weight = 2*(truncate-truc)/truncate\n",
    "        adjust_term += weight\n",
    "    return series.var()/adjust_term"
   ]
  }
 ],
 "metadata": {
  "jupytext": {
   "formats": "ipynb,auto:light"
  },
  "kernelspec": {
   "display_name": "Python 3 (ipykernel)",
   "language": "python",
   "name": "python3"
  },
  "language_info": {
   "codemirror_mode": {
    "name": "ipython",
    "version": 3
   },
   "file_extension": ".py",
   "mimetype": "text/x-python",
   "name": "python",
   "nbconvert_exporter": "python",
   "pygments_lexer": "ipython3",
   "version": "3.8.13"
  }
 },
 "nbformat": 4,
 "nbformat_minor": 5
}
