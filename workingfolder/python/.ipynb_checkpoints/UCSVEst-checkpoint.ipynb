{
 "cells": [
  {
   "cell_type": "markdown",
   "metadata": {},
   "source": [
    "## Stock-Watson Estimation of UC-SV Model\n",
    "\n",
    "- Translated from the Matlab code by Jonathan Wright"
   ]
  },
  {
   "cell_type": "code",
   "execution_count": 1,
   "metadata": {},
   "outputs": [],
   "source": [
    "import numpy as np\n",
    "import matplotlib.pyplot as plt\n",
    "from GMMEstSV import UCSV_simulator as sv_sim"
   ]
  },
  {
   "cell_type": "code",
   "execution_count": 2,
   "metadata": {
    "code_folding": []
   },
   "outputs": [],
   "source": [
    "## default parameters \n",
    "\n",
    "vague = 1000\n",
    "burnin = 100\n",
    "ndraw = burnin + 5000\n",
    "\n",
    "## paramters for log-chi-squared errors\n",
    "r_p = .086\n",
    "r_m1 = -8.472\n",
    "r_m2 = -0.698\n",
    "r_sig2 = 1.411\n",
    "r_sig = np.sqrt(r_sig2)\n",
    "        \n",
    "## parameters for RW innovation variance\n",
    "tau1 = .20\n",
    "tau2 = .20\n",
    "q_p = 1.0\n",
    "q1 = tau1**2\n",
    "q2 = tau2**2"
   ]
  },
  {
   "cell_type": "code",
   "execution_count": 3,
   "metadata": {},
   "outputs": [],
   "source": [
    "params_default = np.array([r_p,r_m1,r_m2,r_sig,r_sig2,q_p,q1,q2,tau1,tau2,vague])"
   ]
  },
  {
   "cell_type": "code",
   "execution_count": 68,
   "metadata": {
    "code_folding": [
     1,
     7,
     39,
     103
    ]
   },
   "outputs": [],
   "source": [
    "class UCSVEst:\n",
    "    def __init__(self,\n",
    "                 y,\n",
    "                 params = params_default):\n",
    "        self.params = params\n",
    "        self.y = y\n",
    "        \n",
    "    def draw_eps_eta(self,\n",
    "                     var_eps_n,\n",
    "                     var_eta_n):\n",
    "        params = self.params\n",
    "        \n",
    "        y = self.y\n",
    "        n = len(y)\n",
    "        ltone = np.tril(np.ones([n,n]))\n",
    "        cov_eps = np.diag(var_eps_n)\n",
    "        cov_tau = ltone*cov_eps*(ltone.T)\n",
    "        diag_y  = np.diag(cov_tau)+var_eta_n\n",
    "        cov_y = cov_tau \n",
    "        for i in range(n):\n",
    "            cov_y[i,i] = diag_y[i]\n",
    "        kappa = cov_tau*np.linalg.inv(cov_y)\n",
    "        mutau_y = kappa*y\n",
    "        covtau_y = cov_tau - kappa*cov_tau.T\n",
    "        print(covtau_y)\n",
    "        #print(covtau_y)\n",
    "        chol_covtau_y = np.linalg.cholesky(covtau_y)\n",
    "        tau = mutau_y + chol_covtau_y.T*np.random.randn(n)\n",
    "        print(tau.shape)\n",
    "        eta = y - tau \n",
    "        #print(tau[0].shape)\n",
    "        eps = np.concatenate([tau[0],tau[1:] - tau[0:-2]])\n",
    "        \n",
    "        self.eps = eps\n",
    "        self.eta = eta\n",
    "        self.tau = tau\n",
    "        \n",
    "        return self.eps,self.eta,self.tau\n",
    "    \n",
    "    def draw_var(self,\n",
    "                 x,\n",
    "                 r_pt,\n",
    "                 q_pt,\n",
    "                 var_min,\n",
    "                 params):\n",
    "    \n",
    "        n = len(x)\n",
    "        bsum = np.tril(np.ones([n+1,n+1])\n",
    "                      )\n",
    "        lnres2 = np.log(x**2)\n",
    "        \n",
    "        ## initial draws of indicators\n",
    "        tmp = np.random.uniform(0,1,n)\n",
    "        ir = tmp<r_pt\n",
    "        temp = np.random.uniform(0,1,n)\n",
    "        iq = temp<q_pt\n",
    "        \n",
    "        ## compute system parameters given indicators\n",
    "        mut = (ir*r_m1) + ((1-ir)*r_m2)\n",
    "        qt = (iq*q1) + ((1-iq)*q2)\n",
    "        \n",
    "        ## compute covariance matrix\n",
    "        vd = np.diag([vague,qt])\n",
    "        valpha = bsum*vd*bsum.T\n",
    "        vy = valpha[1:n,1:n]\n",
    "        cv = valpha[0:n,1:n]\n",
    "        diagvy = np.diag(vy)+r_sig2\n",
    "        for i in range(n):\n",
    "            vy[i,i] = diagvy[i]\n",
    "        kgain = cy*np.linalg.inv(vy)\n",
    "        \n",
    "        # compute draws of state and shocks\n",
    "        ye = lnres2 - mut\n",
    "        ahat0 = kgain*ye\n",
    "        ahat1 = ahat0[1:n]\n",
    "        vhat0 = valpha - kgain*cy.T\n",
    "        cvhat0 = np.linalg.cholesky(vhat0)\n",
    "        adraw0 = ahat0 + cvhat0.T*np.random.randn(n+1)\n",
    "        adraw1 = adraw0[1:n]\n",
    "        vardraw = np.exp(adraw1)\n",
    "        \n",
    "        edraw = lnres2-adraw1\n",
    "        udraw = adraw0[1:] - adraw0[:n]\n",
    "\n",
    "        # Compute Mixture Probabilities \n",
    "        f1 = np.exp((-0.5)*(((edraw-r_m1)/r_sig2)**2)  )\n",
    "        f2 = np.exp((-0.5)*(((edraw-r_m2)/r_sig2)**2)  )\n",
    "        fe = r_p*f1 + (1-r_p)*f2\n",
    "        r_pt = (r_p*f1)/fe\n",
    "        \n",
    "        # u shocks -- Means are both zero%\n",
    "        f1 = (1/tau1)*np.exp((-0.5)*((udraw/tau1)**2) )\n",
    "        f2 = (1/tau1)*np.exp((-0.5)*((udraw/tau2)**2) )\n",
    "        fu = q_p*f1 + (1-q_p)*f2\n",
    "        q_pt = (q_p*f1)/fu\n",
    "                \n",
    "\n",
    "        self.vardraw = vardraw\n",
    "        self.r_pt = r_pt\n",
    "        self.q_pt = q_pt\n",
    "        \n",
    "        return self.vardraws,self.r_pt,self.q_pt\n",
    "    \n",
    "    def stockwatson(self,\n",
    "                    var_eps_min,\n",
    "                    var_eta_min):\n",
    "        y = self.y\n",
    "        n = len(y)\n",
    "        params = self.params\n",
    "        \n",
    "        ## parameters for initial conditions, bounds and so forth\n",
    "        tau0 = np.mean(y[:4])\n",
    "        dy = y[1:] - y[0:-1]\n",
    "        var_dy = np.std(dy)**2\n",
    "        \n",
    "        ## lower bounds on variance\n",
    "        #var_eta_min = 0.015*var_dy\n",
    "        #var_eps_min = 0.005*var_dy\n",
    "        \n",
    "        ## initial values\n",
    "        var_eps_initial = var_dy/3\n",
    "        var_eta_initial = var_dy/4\n",
    "        \n",
    "        y = y - tau0\n",
    "        r_pt_eps = r_p*np.ones(n)\n",
    "        q_pt_eps = q_p*np.ones(n)\n",
    "        r_pt_eta = r_p*np.ones(n)\n",
    "        q_pt_eta = q_p*np.ones(n)\n",
    "        var_eps_n = var_eps_initial*np.ones(n)\n",
    "        var_eta_n = var_eta_initial*np.ones(n)\n",
    "        \n",
    "        sd_eps_save = np.zeros([n,ndraw-burnin])\n",
    "        sd_eta_save = np.zeros([n,ndraw-burnin])\n",
    "        tau_save = np.zeros([n,ndraw-burnin])\n",
    "        for idraw in range(ndraw):\n",
    "            eps,eta,tau = self.draw_eps_eta(var_eps_n,var_eta_n)\n",
    "            var_eps_n,r_pt_eps,q_pt_eps = self.draw_var(eps,r_pt_eps,q_pt_eps,var_eps_min,params)\n",
    "            var_eta_n,r_pt_eta,q_pt_eta = self.draw_var(eta,r_pt_eta,q_pt_eta,var_eta_min,params)\n",
    "            if idraw > burnin:\n",
    "                sd_eps_n = np.sqrt(var_eps_n)\n",
    "                sd_eta_n = np.sqrt(var_eta_n)\n",
    "                sd_eps_save[:,idraw-burnin] = sd_eps_n\n",
    "                sd_eta_save[:,idraw-burnin] = sd_eta_n\n",
    "                tau_save[:,idraw-burnin] = tau\n",
    "        sd_eps = np.zeros(n)\n",
    "        sd_eta = np.zeros(n)\n",
    "        tau = np.zeros(n)\n",
    "        for i in range(n):\n",
    "            sd_eps[i] = median(sd_eps_save[i,:])\n",
    "            sd_eta[i] = median(sd_eta_save[i,:])\n",
    "            tau[i] = median(tau_save[i,:])\n",
    "        tau = tau + tau0\n",
    "        \n",
    "        self.sd_eps = sd_eps\n",
    "        self.sd_eta = sd_eta\n",
    "        self.tau = tau\n",
    "        return self.sd_eps,self.sd_eta,self.tau"
   ]
  },
  {
   "cell_type": "code",
   "execution_count": 69,
   "metadata": {
    "code_folding": []
   },
   "outputs": [],
   "source": [
    "## simulate some uc-sv model \n",
    "\n",
    "sv_instance = sv_sim(0.2,\n",
    "                     nobs = 1000,\n",
    "                     eta0 = 2)\n",
    "y_fake = sv_instance[0][200:]\n",
    "tau_fake = sv_instance[1][200:]\n",
    "var_eps_fake = sv_instance[2][200:]**2\n",
    "var_eta_fake = sv_instance[3][200:]**2"
   ]
  },
  {
   "cell_type": "code",
   "execution_count": 70,
   "metadata": {},
   "outputs": [],
   "source": [
    "y_fake2 = np.random.uniform(0,1,100)"
   ]
  },
  {
   "cell_type": "code",
   "execution_count": 71,
   "metadata": {
    "code_folding": []
   },
   "outputs": [],
   "source": [
    "## test UCSVEst\n",
    "\n",
    "est_fake = UCSVEst(y_fake2,\n",
    "                   params = params_default)"
   ]
  },
  {
   "cell_type": "code",
   "execution_count": 72,
   "metadata": {
    "lines_to_next_cell": 0,
    "scrolled": true
   },
   "outputs": [
    {
     "name": "stdout",
     "output_type": "stream",
     "text": [
      "[[0. 0. 0. ... 0. 0. 0.]\n",
      " [0. 0. 0. ... 0. 0. 0.]\n",
      " [0. 0. 0. ... 0. 0. 0.]\n",
      " ...\n",
      " [0. 0. 0. ... 0. 0. 0.]\n",
      " [0. 0. 0. ... 0. 0. 0.]\n",
      " [0. 0. 0. ... 0. 0. 0.]]\n"
     ]
    },
    {
     "ename": "LinAlgError",
     "evalue": "Matrix is not positive definite",
     "output_type": "error",
     "traceback": [
      "\u001b[0;31m---------------------------------------------------------------------------\u001b[0m",
      "\u001b[0;31mLinAlgError\u001b[0m                               Traceback (most recent call last)",
      "\u001b[0;32m<ipython-input-72-d83c7a011656>\u001b[0m in \u001b[0;36m<module>\u001b[0;34m\u001b[0m\n\u001b[1;32m      2\u001b[0m \u001b[0;31m#var_eta_fake = np.random.uniform(0,1,101)\u001b[0m\u001b[0;34m\u001b[0m\u001b[0;34m\u001b[0m\u001b[0;34m\u001b[0m\u001b[0m\n\u001b[1;32m      3\u001b[0m \u001b[0;34m\u001b[0m\u001b[0m\n\u001b[0;32m----> 4\u001b[0;31m \u001b[0mest_fake\u001b[0m\u001b[0;34m.\u001b[0m\u001b[0mstockwatson\u001b[0m\u001b[0;34m(\u001b[0m\u001b[0;36m0.01\u001b[0m\u001b[0;34m,\u001b[0m\u001b[0;36m0.01\u001b[0m\u001b[0;34m)\u001b[0m\u001b[0;34m\u001b[0m\u001b[0;34m\u001b[0m\u001b[0m\n\u001b[0m",
      "\u001b[0;32m<ipython-input-68-75ac82d50609>\u001b[0m in \u001b[0;36mstockwatson\u001b[0;34m(self, var_eps_min, var_eta_min)\u001b[0m\n\u001b[1;32m    134\u001b[0m         \u001b[0mtau_save\u001b[0m \u001b[0;34m=\u001b[0m \u001b[0mnp\u001b[0m\u001b[0;34m.\u001b[0m\u001b[0mzeros\u001b[0m\u001b[0;34m(\u001b[0m\u001b[0;34m[\u001b[0m\u001b[0mn\u001b[0m\u001b[0;34m,\u001b[0m\u001b[0mndraw\u001b[0m\u001b[0;34m-\u001b[0m\u001b[0mburnin\u001b[0m\u001b[0;34m]\u001b[0m\u001b[0;34m)\u001b[0m\u001b[0;34m\u001b[0m\u001b[0;34m\u001b[0m\u001b[0m\n\u001b[1;32m    135\u001b[0m         \u001b[0;32mfor\u001b[0m \u001b[0midraw\u001b[0m \u001b[0;32min\u001b[0m \u001b[0mrange\u001b[0m\u001b[0;34m(\u001b[0m\u001b[0mndraw\u001b[0m\u001b[0;34m)\u001b[0m\u001b[0;34m:\u001b[0m\u001b[0;34m\u001b[0m\u001b[0;34m\u001b[0m\u001b[0m\n\u001b[0;32m--> 136\u001b[0;31m             \u001b[0meps\u001b[0m\u001b[0;34m,\u001b[0m\u001b[0meta\u001b[0m\u001b[0;34m,\u001b[0m\u001b[0mtau\u001b[0m \u001b[0;34m=\u001b[0m \u001b[0mself\u001b[0m\u001b[0;34m.\u001b[0m\u001b[0mdraw_eps_eta\u001b[0m\u001b[0;34m(\u001b[0m\u001b[0mvar_eps_n\u001b[0m\u001b[0;34m,\u001b[0m\u001b[0mvar_eta_n\u001b[0m\u001b[0;34m)\u001b[0m\u001b[0;34m\u001b[0m\u001b[0;34m\u001b[0m\u001b[0m\n\u001b[0m\u001b[1;32m    137\u001b[0m             \u001b[0mvar_eps_n\u001b[0m\u001b[0;34m,\u001b[0m\u001b[0mr_pt_eps\u001b[0m\u001b[0;34m,\u001b[0m\u001b[0mq_pt_eps\u001b[0m \u001b[0;34m=\u001b[0m \u001b[0mself\u001b[0m\u001b[0;34m.\u001b[0m\u001b[0mdraw_var\u001b[0m\u001b[0;34m(\u001b[0m\u001b[0meps\u001b[0m\u001b[0;34m,\u001b[0m\u001b[0mr_pt_eps\u001b[0m\u001b[0;34m,\u001b[0m\u001b[0mq_pt_eps\u001b[0m\u001b[0;34m,\u001b[0m\u001b[0mvar_eps_min\u001b[0m\u001b[0;34m,\u001b[0m\u001b[0mparams\u001b[0m\u001b[0;34m)\u001b[0m\u001b[0;34m\u001b[0m\u001b[0;34m\u001b[0m\u001b[0m\n\u001b[1;32m    138\u001b[0m             \u001b[0mvar_eta_n\u001b[0m\u001b[0;34m,\u001b[0m\u001b[0mr_pt_eta\u001b[0m\u001b[0;34m,\u001b[0m\u001b[0mq_pt_eta\u001b[0m \u001b[0;34m=\u001b[0m \u001b[0mself\u001b[0m\u001b[0;34m.\u001b[0m\u001b[0mdraw_var\u001b[0m\u001b[0;34m(\u001b[0m\u001b[0meta\u001b[0m\u001b[0;34m,\u001b[0m\u001b[0mr_pt_eta\u001b[0m\u001b[0;34m,\u001b[0m\u001b[0mq_pt_eta\u001b[0m\u001b[0;34m,\u001b[0m\u001b[0mvar_eta_min\u001b[0m\u001b[0;34m,\u001b[0m\u001b[0mparams\u001b[0m\u001b[0;34m)\u001b[0m\u001b[0;34m\u001b[0m\u001b[0;34m\u001b[0m\u001b[0m\n",
      "\u001b[0;32m<ipython-input-68-75ac82d50609>\u001b[0m in \u001b[0;36mdraw_eps_eta\u001b[0;34m(self, var_eps_n, var_eta_n)\u001b[0m\n\u001b[1;32m     25\u001b[0m         \u001b[0mprint\u001b[0m\u001b[0;34m(\u001b[0m\u001b[0mcovtau_y\u001b[0m\u001b[0;34m)\u001b[0m\u001b[0;34m\u001b[0m\u001b[0;34m\u001b[0m\u001b[0m\n\u001b[1;32m     26\u001b[0m         \u001b[0;31m#print(covtau_y)\u001b[0m\u001b[0;34m\u001b[0m\u001b[0;34m\u001b[0m\u001b[0;34m\u001b[0m\u001b[0m\n\u001b[0;32m---> 27\u001b[0;31m         \u001b[0mchol_covtau_y\u001b[0m \u001b[0;34m=\u001b[0m \u001b[0mnp\u001b[0m\u001b[0;34m.\u001b[0m\u001b[0mlinalg\u001b[0m\u001b[0;34m.\u001b[0m\u001b[0mcholesky\u001b[0m\u001b[0;34m(\u001b[0m\u001b[0mcovtau_y\u001b[0m\u001b[0;34m)\u001b[0m\u001b[0;34m\u001b[0m\u001b[0;34m\u001b[0m\u001b[0m\n\u001b[0m\u001b[1;32m     28\u001b[0m         \u001b[0mtau\u001b[0m \u001b[0;34m=\u001b[0m \u001b[0mmutau_y\u001b[0m \u001b[0;34m+\u001b[0m \u001b[0mchol_covtau_y\u001b[0m\u001b[0;34m.\u001b[0m\u001b[0mT\u001b[0m\u001b[0;34m*\u001b[0m\u001b[0mnp\u001b[0m\u001b[0;34m.\u001b[0m\u001b[0mrandom\u001b[0m\u001b[0;34m.\u001b[0m\u001b[0mrandn\u001b[0m\u001b[0;34m(\u001b[0m\u001b[0mn\u001b[0m\u001b[0;34m)\u001b[0m\u001b[0;34m\u001b[0m\u001b[0;34m\u001b[0m\u001b[0m\n\u001b[1;32m     29\u001b[0m         \u001b[0mprint\u001b[0m\u001b[0;34m(\u001b[0m\u001b[0mtau\u001b[0m\u001b[0;34m.\u001b[0m\u001b[0mshape\u001b[0m\u001b[0;34m)\u001b[0m\u001b[0;34m\u001b[0m\u001b[0;34m\u001b[0m\u001b[0m\n",
      "\u001b[0;32m~/anaconda3/lib/python3.7/site-packages/numpy/linalg/linalg.py\u001b[0m in \u001b[0;36mcholesky\u001b[0;34m(a)\u001b[0m\n\u001b[1;32m    757\u001b[0m     \u001b[0mt\u001b[0m\u001b[0;34m,\u001b[0m \u001b[0mresult_t\u001b[0m \u001b[0;34m=\u001b[0m \u001b[0m_commonType\u001b[0m\u001b[0;34m(\u001b[0m\u001b[0ma\u001b[0m\u001b[0;34m)\u001b[0m\u001b[0;34m\u001b[0m\u001b[0;34m\u001b[0m\u001b[0m\n\u001b[1;32m    758\u001b[0m     \u001b[0msignature\u001b[0m \u001b[0;34m=\u001b[0m \u001b[0;34m'D->D'\u001b[0m \u001b[0;32mif\u001b[0m \u001b[0misComplexType\u001b[0m\u001b[0;34m(\u001b[0m\u001b[0mt\u001b[0m\u001b[0;34m)\u001b[0m \u001b[0;32melse\u001b[0m \u001b[0;34m'd->d'\u001b[0m\u001b[0;34m\u001b[0m\u001b[0;34m\u001b[0m\u001b[0m\n\u001b[0;32m--> 759\u001b[0;31m     \u001b[0mr\u001b[0m \u001b[0;34m=\u001b[0m \u001b[0mgufunc\u001b[0m\u001b[0;34m(\u001b[0m\u001b[0ma\u001b[0m\u001b[0;34m,\u001b[0m \u001b[0msignature\u001b[0m\u001b[0;34m=\u001b[0m\u001b[0msignature\u001b[0m\u001b[0;34m,\u001b[0m \u001b[0mextobj\u001b[0m\u001b[0;34m=\u001b[0m\u001b[0mextobj\u001b[0m\u001b[0;34m)\u001b[0m\u001b[0;34m\u001b[0m\u001b[0;34m\u001b[0m\u001b[0m\n\u001b[0m\u001b[1;32m    760\u001b[0m     \u001b[0;32mreturn\u001b[0m \u001b[0mwrap\u001b[0m\u001b[0;34m(\u001b[0m\u001b[0mr\u001b[0m\u001b[0;34m.\u001b[0m\u001b[0mastype\u001b[0m\u001b[0;34m(\u001b[0m\u001b[0mresult_t\u001b[0m\u001b[0;34m,\u001b[0m \u001b[0mcopy\u001b[0m\u001b[0;34m=\u001b[0m\u001b[0;32mFalse\u001b[0m\u001b[0;34m)\u001b[0m\u001b[0;34m)\u001b[0m\u001b[0;34m\u001b[0m\u001b[0;34m\u001b[0m\u001b[0m\n\u001b[1;32m    761\u001b[0m \u001b[0;34m\u001b[0m\u001b[0m\n",
      "\u001b[0;32m~/anaconda3/lib/python3.7/site-packages/numpy/linalg/linalg.py\u001b[0m in \u001b[0;36m_raise_linalgerror_nonposdef\u001b[0;34m(err, flag)\u001b[0m\n\u001b[1;32m     98\u001b[0m \u001b[0;34m\u001b[0m\u001b[0m\n\u001b[1;32m     99\u001b[0m \u001b[0;32mdef\u001b[0m \u001b[0m_raise_linalgerror_nonposdef\u001b[0m\u001b[0;34m(\u001b[0m\u001b[0merr\u001b[0m\u001b[0;34m,\u001b[0m \u001b[0mflag\u001b[0m\u001b[0;34m)\u001b[0m\u001b[0;34m:\u001b[0m\u001b[0;34m\u001b[0m\u001b[0;34m\u001b[0m\u001b[0m\n\u001b[0;32m--> 100\u001b[0;31m     \u001b[0;32mraise\u001b[0m \u001b[0mLinAlgError\u001b[0m\u001b[0;34m(\u001b[0m\u001b[0;34m\"Matrix is not positive definite\"\u001b[0m\u001b[0;34m)\u001b[0m\u001b[0;34m\u001b[0m\u001b[0;34m\u001b[0m\u001b[0m\n\u001b[0m\u001b[1;32m    101\u001b[0m \u001b[0;34m\u001b[0m\u001b[0m\n\u001b[1;32m    102\u001b[0m \u001b[0;32mdef\u001b[0m \u001b[0m_raise_linalgerror_eigenvalues_nonconvergence\u001b[0m\u001b[0;34m(\u001b[0m\u001b[0merr\u001b[0m\u001b[0;34m,\u001b[0m \u001b[0mflag\u001b[0m\u001b[0;34m)\u001b[0m\u001b[0;34m:\u001b[0m\u001b[0;34m\u001b[0m\u001b[0;34m\u001b[0m\u001b[0m\n",
      "\u001b[0;31mLinAlgError\u001b[0m: Matrix is not positive definite"
     ]
    }
   ],
   "source": [
    "#var_eps_fake = np.random.uniform(0,1,101)\n",
    "#var_eta_fake = np.random.uniform(0,1,101)\n",
    "\n",
    "#est_fake.stockwatson(0.01,0.01)"
   ]
  },
  {
   "cell_type": "code",
   "execution_count": null,
   "metadata": {},
   "outputs": [],
   "source": []
  },
  {
   "cell_type": "code",
   "execution_count": null,
   "metadata": {},
   "outputs": [],
   "source": []
  }
 ],
 "metadata": {
  "jupytext": {
   "formats": "ipynb,py:light"
  },
  "kernelspec": {
   "display_name": "Python 3",
   "language": "python",
   "name": "python3"
  },
  "language_info": {
   "codemirror_mode": {
    "name": "ipython",
    "version": 3
   },
   "file_extension": ".py",
   "mimetype": "text/x-python",
   "name": "python",
   "nbconvert_exporter": "python",
   "pygments_lexer": "ipython3",
   "version": "3.7.3"
  }
 },
 "nbformat": 4,
 "nbformat_minor": 2
}
