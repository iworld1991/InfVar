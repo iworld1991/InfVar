{
 "cells": [
  {
   "cell_type": "code",
   "execution_count": null,
   "id": "f4c22e3c",
   "metadata": {},
   "outputs": [],
   "source": [
    "import requests\n",
    "import pandas as pd\n",
    "import matplotlib.pyplot as plt "
   ]
  },
  {
   "cell_type": "code",
   "execution_count": null,
   "id": "8ade49c4",
   "metadata": {},
   "outputs": [],
   "source": [
    "## URLs from New York Fed website\n",
    "URL1316 = 'https://www.newyorkfed.org/medialibrary/interactives/sce/sce/downloads/data/frbny-sce-public-microdata-complete-13-16.xlsx'\n",
    "URL1719 = 'https://www.newyorkfed.org/medialibrary/interactives/sce/sce/downloads/data/frbny-sce-public-microdata-complete-17-19.xlsx'\n",
    "URL2022 = 'https://www.newyorkfed.org/medialibrary/interactives/sce/sce/downloads/data/frbny-sce-public-microdata-latest.xlsx'"
   ]
  },
  {
   "cell_type": "code",
   "execution_count": null,
   "id": "4eb77045",
   "metadata": {},
   "outputs": [],
   "source": [
    "## save it to stata\n",
    "SCE1316 = pd.read_excel(URL1316,\n",
    "                        sheet_name='Data',\n",
    "                        skiprows= [0])\n",
    "SCE1316.to_stata('../SurveyData/SCE/NYFED_SCE_13_16_new.dta')\n",
    "\n",
    "SCE1719 = pd.read_excel(URL1719,\n",
    "                        sheet_name='Data',\n",
    "                        skiprows= [0])\n",
    "SCE1719.to_stata('../SurveyData/SCE/NYFED_SCE_17_19_new.dta')\n",
    "\n",
    "SCE2022 = pd.read_excel(URL2022,\n",
    "                        sheet_name='Data',\n",
    "                        skiprows=[0])\n",
    "SCE2022.to_stata('../SurveyData/SCE/NYFED_SCE_20_new.dta')\n",
    "\n",
    "\n",
    "## merge all \n",
    "#SCE = pd.concat([SCE1316,SCE1719,SCE2022], axis = 0)\n",
    "\n",
    "## date \n",
    "#SCE['date'] = pd.to_datetime(SCE['date'], format='%Y%m', errors='coerce')"
   ]
  }
 ],
 "metadata": {
  "kernelspec": {
   "display_name": "Python 3 (ipykernel)",
   "language": "python",
   "name": "python3"
  },
  "language_info": {
   "codemirror_mode": {
    "name": "ipython",
    "version": 3
   },
   "file_extension": ".py",
   "mimetype": "text/x-python",
   "name": "python",
   "nbconvert_exporter": "python",
   "pygments_lexer": "ipython3",
   "version": "3.8.13"
  }
 },
 "nbformat": 4,
 "nbformat_minor": 5
}
